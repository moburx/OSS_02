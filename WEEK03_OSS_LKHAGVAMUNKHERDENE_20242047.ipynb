{
  "nbformat": 4,
  "nbformat_minor": 0,
  "metadata": {
    "colab": {
      "provenance": []
    },
    "kernelspec": {
      "name": "python3",
      "display_name": "Python 3"
    },
    "language_info": {
      "name": "python"
    }
  },
  "cells": [
    {
      "cell_type": "code",
      "execution_count": 1,
      "metadata": {
        "id": "_EqQevyh7cy-",
        "colab": {
          "base_uri": "https://localhost:8080/"
        },
        "outputId": "96c944a9-335a-43fe-a2ee-50bef148c240"
      },
      "outputs": [
        {
          "output_type": "stream",
          "name": "stdout",
          "text": [
            "LKHAGVA MUNKH ERDENE\n",
            "20242047\n"
          ]
        }
      ],
      "source": [
        "# 본인의 이름, 학번을 작성하여 실행하세요.\n",
        "print(\"LKHAGVA MUNKH ERDENE\")\n",
        "print(\"20242047\")"
      ]
    },
    {
      "cell_type": "markdown",
      "source": [
        "## 이후 강의 PDF 예제 내용을 작성하여 실행하세요."
      ],
      "metadata": {
        "id": "m1FrI_-670e1"
      }
    },
    {
      "cell_type": "code",
      "source": [
        "#예제1\n",
        "class MyCollection:\n",
        "    def __getitem__(self, key):\n",
        "        return f\"Value for {key}\"\n",
        "\n",
        "collection = MyCollection()\n",
        "\n",
        "print(collection.__getitem__(3))\n",
        "print(collection[3])"
      ],
      "metadata": {
        "colab": {
          "base_uri": "https://localhost:8080/"
        },
        "id": "ZoAuf1fp9cp8",
        "outputId": "c4d2c930-6f47-4308-aa96-464b5067c410"
      },
      "execution_count": 4,
      "outputs": [
        {
          "output_type": "stream",
          "name": "stdout",
          "text": [
            "Value for 3\n",
            "Value for 3\n"
          ]
        }
      ]
    },
    {
      "cell_type": "code",
      "source": [
        "#예제2\n",
        "import collections\n",
        "\n",
        "Card = collections.namedtuple('Card', ['rank', 'suit'])\n",
        "\n",
        "class FrenchDeck:\n",
        "    ranks = [str(n) for n in range(2, 11)] + list('JQKA')  # 2~10, J, Q, K, A\n",
        "    suits = 'spades diamonds clubs hearts'.split()\n",
        "\n",
        "    def __init__(self):\n",
        "        self._cards = [Card(rank, suit) for suit in self.suits\n",
        "                                          for rank in self.ranks]\n",
        "\n",
        "    def __len__(self):\n",
        "        return len(self._cards)\n",
        "\n",
        "    def __getitem__(self, position):\n",
        "        return self._cards[position]\n",
        "\n",
        "deck = FrenchDeck()\n",
        "print(len(deck))\n",
        "print(deck[0])\n",
        "print(deck[-1])"
      ],
      "metadata": {
        "colab": {
          "base_uri": "https://localhost:8080/"
        },
        "id": "vahOwxPy-Nwp",
        "outputId": "7699f1c6-0686-4d84-9261-c463111e000b"
      },
      "execution_count": 5,
      "outputs": [
        {
          "output_type": "stream",
          "name": "stdout",
          "text": [
            "52\n",
            "Card(rank='2', suit='spades')\n",
            "Card(rank='A', suit='hearts')\n"
          ]
        }
      ]
    },
    {
      "cell_type": "code",
      "source": [
        "#예제3\n",
        "import collections\n",
        "\n",
        "Card = collections.namedtuple('Card', ['rank', 'suit'])\n",
        "\n",
        "class FrenchDeck:\n",
        "    ranks = [str(n) for n in range(2, 11)] + list('JQKA')\n",
        "    suits = 'spades diamonds clubs hearts'.split()\n",
        "\n",
        "    def __init__(self):\n",
        "        self._cards = [Card(rank, suit) for suit in self.suits\n",
        "                                          for rank in self.ranks]\n",
        "\n",
        "    def __len__(self):\n",
        "        return len(self._cards)\n",
        "\n",
        "    def __getitem__(self, position):\n",
        "        return self._cards[position]\n",
        "\n",
        "beer_card = Card('7', 'diamonds')\n",
        "print(beer_card)"
      ],
      "metadata": {
        "id": "DK8jS1KQ7z37",
        "colab": {
          "base_uri": "https://localhost:8080/"
        },
        "outputId": "d3806d79-b3d9-4a24-f846-3fdda23ff526"
      },
      "execution_count": 6,
      "outputs": [
        {
          "output_type": "stream",
          "name": "stdout",
          "text": [
            "Card(rank='7', suit='diamonds')\n"
          ]
        }
      ]
    },
    {
      "cell_type": "code",
      "source": [
        "#예제4\n",
        "import collections\n",
        "\n",
        "Card = collections.namedtuple('Card', ['rank', 'suit'])\n",
        "\n",
        "class FrenchDeck:\n",
        "    ranks = [str(n) for n in range(2, 11)] + list('JQKA')\n",
        "    suits = 'spades diamonds clubs hearts'.split()\n",
        "\n",
        "    def __init__(self):\n",
        "        self._cards = [Card(rank, suit) for suit in self.suits\n",
        "                                          for rank in self.ranks]\n",
        "\n",
        "    def __len__(self):\n",
        "        return len(self._cards)\n",
        "\n",
        "    def __getitem__(self, position):\n",
        "        return self._cards[position]\n",
        "deck = FrenchDeck()\n",
        "print(f\"Ranks: {deck.ranks}\")\n",
        "print(f\"len: {len(deck)}\")"
      ],
      "metadata": {
        "colab": {
          "base_uri": "https://localhost:8080/"
        },
        "id": "TtmiwFuZAFGx",
        "outputId": "1d8e5027-30f1-4beb-9809-6d778ebf41ab"
      },
      "execution_count": 7,
      "outputs": [
        {
          "output_type": "stream",
          "name": "stdout",
          "text": [
            "Ranks: ['2', '3', '4', '5', '6', '7', '8', '9', '10', 'J', 'Q', 'K', 'A']\n",
            "len: 52\n"
          ]
        }
      ]
    },
    {
      "cell_type": "code",
      "source": [
        "#예제5\n",
        "import collections\n",
        "\n",
        "Card = collections.namedtuple('Card', ['rank', 'suit'])\n",
        "\n",
        "class FrenchDeck:\n",
        "    ranks = [str(n) for n in range(2, 11)] + list('JQKA')\n",
        "    suits = 'spades diamonds clubs hearts'.split()\n",
        "\n",
        "    def __init__(self):\n",
        "        self._cards = [Card(rank, suit) for suit in self.suits\n",
        "                                          for rank in self.ranks]\n",
        "\n",
        "    def __len__(self):\n",
        "        return len(self._cards)\n",
        "\n",
        "    def __getitem__(self, position):\n",
        "        return self._cards[position]\n",
        "\n",
        "print (deck [0])\n",
        "print (deck[-1])"
      ],
      "metadata": {
        "colab": {
          "base_uri": "https://localhost:8080/"
        },
        "id": "RZ5pE7goAVtm",
        "outputId": "66afe6c1-a393-4f51-fc36-f79a3056dc9c"
      },
      "execution_count": 8,
      "outputs": [
        {
          "output_type": "stream",
          "name": "stdout",
          "text": [
            "Card(rank='2', suit='spades')\n",
            "Card(rank='A', suit='hearts')\n"
          ]
        }
      ]
    },
    {
      "cell_type": "code",
      "source": [
        "#예제6\n",
        "import collections\n",
        "\n",
        "Card = collections.namedtuple('Card', ['rank', 'suit'])\n",
        "\n",
        "class FrenchDeck:\n",
        "    ranks = [str(n) for n in range(2, 11)] + list('JQKA')\n",
        "    suits = 'spades diamonds clubs hearts'.split()\n",
        "\n",
        "    def __init__(self):\n",
        "        self._cards = [Card(rank, suit) for suit in self.suits\n",
        "                                          for rank in self.ranks]\n",
        "\n",
        "    def __len__(self):\n",
        "        return len(self._cards)\n",
        "\n",
        "    def __getitem__(self, position):\n",
        "        return self._cards[position]\n",
        "\n",
        "from random import choice\n",
        "print (choice (deck) )\n",
        "print (choice (deck))\n",
        "print (choice (deck) )"
      ],
      "metadata": {
        "colab": {
          "base_uri": "https://localhost:8080/"
        },
        "id": "sLV_SYYqAnJr",
        "outputId": "d8fb54a2-017b-4b99-8eb1-7e58bd4354fd"
      },
      "execution_count": 13,
      "outputs": [
        {
          "output_type": "stream",
          "name": "stdout",
          "text": [
            "Card(rank='K', suit='clubs')\n",
            "Card(rank='8', suit='diamonds')\n",
            "Card(rank='6', suit='clubs')\n"
          ]
        }
      ]
    },
    {
      "cell_type": "code",
      "source": [
        "#예제7\n",
        "import collections\n",
        "\n",
        "Card = collections.namedtuple('Card', ['rank', 'suit'])\n",
        "\n",
        "class FrenchDeck:\n",
        "    ranks = [str(n) for n in range(2, 11)] + list('JQKA')\n",
        "    suits = 'spades diamonds clubs hearts'.split()\n",
        "\n",
        "    def __init__(self):\n",
        "        self._cards = [Card(rank, suit) for suit in self.suits\n",
        "                                          for rank in self.ranks]\n",
        "\n",
        "    def __len__(self):\n",
        "        return len(self._cards)\n",
        "\n",
        "    def __getitem__(self, position):\n",
        "        return self._cards[position]\n",
        "deck[:3]"
      ],
      "metadata": {
        "colab": {
          "base_uri": "https://localhost:8080/"
        },
        "id": "ZCMz-vMMA9I5",
        "outputId": "ffaa2fc6-244e-47c4-924a-e12cdd765762"
      },
      "execution_count": 14,
      "outputs": [
        {
          "output_type": "execute_result",
          "data": {
            "text/plain": [
              "[Card(rank='2', suit='spades'),\n",
              " Card(rank='3', suit='spades'),\n",
              " Card(rank='4', suit='spades')]"
            ]
          },
          "metadata": {},
          "execution_count": 14
        }
      ]
    },
    {
      "cell_type": "code",
      "source": [
        "#예제8\n",
        "import collections\n",
        "\n",
        "Card = collections.namedtuple('Card', ['rank', 'suit'])\n",
        "\n",
        "class FrenchDeck:\n",
        "    ranks = [str(n) for n in range(2, 11)] + list('JQKA')\n",
        "    suits = 'spades diamonds clubs hearts'.split()\n",
        "\n",
        "    def __init__(self):\n",
        "        self._cards = [Card(rank, suit) for suit in self.suits\n",
        "                                          for rank in self.ranks]\n",
        "\n",
        "    def __len__(self):\n",
        "        return len(self._cards)\n",
        "\n",
        "    def __getitem__(self, position):\n",
        "        return self._cards[position]\n",
        "deck[12::13]"
      ],
      "metadata": {
        "colab": {
          "base_uri": "https://localhost:8080/"
        },
        "id": "g7Z94SIABOkj",
        "outputId": "46b8f1cc-4765-4f72-9fea-e993d1e19de8"
      },
      "execution_count": 15,
      "outputs": [
        {
          "output_type": "execute_result",
          "data": {
            "text/plain": [
              "[Card(rank='A', suit='spades'),\n",
              " Card(rank='A', suit='diamonds'),\n",
              " Card(rank='A', suit='clubs'),\n",
              " Card(rank='A', suit='hearts')]"
            ]
          },
          "metadata": {},
          "execution_count": 15
        }
      ]
    },
    {
      "cell_type": "code",
      "source": [
        "#예제6\n",
        "import collections\n",
        "\n",
        "Card = collections.namedtuple('Card', ['rank', 'suit'])\n",
        "\n",
        "class FrenchDeck:\n",
        "    ranks = [str(n) for n in range(2, 11)] + list('JQKA')\n",
        "    suits = 'spades diamonds clubs hearts'.split()\n",
        "\n",
        "    def __init__(self):\n",
        "        self._cards = [Card(rank, suit) for suit in self.suits\n",
        "                                          for rank in self.ranks]\n",
        "\n",
        "    def __len__(self):\n",
        "        return len(self._cards)\n",
        "\n",
        "    def __getitem__(self, position):\n",
        "        return self._cards[position]\n",
        "\n",
        "for card in deck:\n",
        "  print(card)"
      ],
      "metadata": {
        "colab": {
          "base_uri": "https://localhost:8080/"
        },
        "id": "whl0vdrPBZBX",
        "outputId": "43bf706a-aee9-40a3-b3c0-c44fce4e5783"
      },
      "execution_count": 16,
      "outputs": [
        {
          "output_type": "stream",
          "name": "stdout",
          "text": [
            "Card(rank='2', suit='spades')\n",
            "Card(rank='3', suit='spades')\n",
            "Card(rank='4', suit='spades')\n",
            "Card(rank='5', suit='spades')\n",
            "Card(rank='6', suit='spades')\n",
            "Card(rank='7', suit='spades')\n",
            "Card(rank='8', suit='spades')\n",
            "Card(rank='9', suit='spades')\n",
            "Card(rank='10', suit='spades')\n",
            "Card(rank='J', suit='spades')\n",
            "Card(rank='Q', suit='spades')\n",
            "Card(rank='K', suit='spades')\n",
            "Card(rank='A', suit='spades')\n",
            "Card(rank='2', suit='diamonds')\n",
            "Card(rank='3', suit='diamonds')\n",
            "Card(rank='4', suit='diamonds')\n",
            "Card(rank='5', suit='diamonds')\n",
            "Card(rank='6', suit='diamonds')\n",
            "Card(rank='7', suit='diamonds')\n",
            "Card(rank='8', suit='diamonds')\n",
            "Card(rank='9', suit='diamonds')\n",
            "Card(rank='10', suit='diamonds')\n",
            "Card(rank='J', suit='diamonds')\n",
            "Card(rank='Q', suit='diamonds')\n",
            "Card(rank='K', suit='diamonds')\n",
            "Card(rank='A', suit='diamonds')\n",
            "Card(rank='2', suit='clubs')\n",
            "Card(rank='3', suit='clubs')\n",
            "Card(rank='4', suit='clubs')\n",
            "Card(rank='5', suit='clubs')\n",
            "Card(rank='6', suit='clubs')\n",
            "Card(rank='7', suit='clubs')\n",
            "Card(rank='8', suit='clubs')\n",
            "Card(rank='9', suit='clubs')\n",
            "Card(rank='10', suit='clubs')\n",
            "Card(rank='J', suit='clubs')\n",
            "Card(rank='Q', suit='clubs')\n",
            "Card(rank='K', suit='clubs')\n",
            "Card(rank='A', suit='clubs')\n",
            "Card(rank='2', suit='hearts')\n",
            "Card(rank='3', suit='hearts')\n",
            "Card(rank='4', suit='hearts')\n",
            "Card(rank='5', suit='hearts')\n",
            "Card(rank='6', suit='hearts')\n",
            "Card(rank='7', suit='hearts')\n",
            "Card(rank='8', suit='hearts')\n",
            "Card(rank='9', suit='hearts')\n",
            "Card(rank='10', suit='hearts')\n",
            "Card(rank='J', suit='hearts')\n",
            "Card(rank='Q', suit='hearts')\n",
            "Card(rank='K', suit='hearts')\n",
            "Card(rank='A', suit='hearts')\n"
          ]
        }
      ]
    },
    {
      "cell_type": "code",
      "source": [
        "#예제10\n",
        "import collections\n",
        "\n",
        "Card = collections.namedtuple('Card', ['rank', 'suit'])\n",
        "\n",
        "class FrenchDeck:\n",
        "    ranks = [str(n) for n in range(2, 11)] + list('JQKA')\n",
        "    suits = 'spades diamonds clubs hearts'.split()\n",
        "\n",
        "    def __init__(self):\n",
        "        self._cards = [Card(rank, suit) for suit in self.suits\n",
        "                                          for rank in self.ranks]\n",
        "\n",
        "    def __len__(self):\n",
        "        return len(self._cards)\n",
        "\n",
        "    def __getitem__(self, position):\n",
        "        return self._cards[position]\n",
        "for card in reversed(deck):\n",
        "  print(card)"
      ],
      "metadata": {
        "colab": {
          "base_uri": "https://localhost:8080/"
        },
        "id": "UVX4Xiu7Bmqc",
        "outputId": "f5ac634f-079f-411e-f578-c2b747e94b4b"
      },
      "execution_count": 17,
      "outputs": [
        {
          "output_type": "stream",
          "name": "stdout",
          "text": [
            "Card(rank='A', suit='hearts')\n",
            "Card(rank='K', suit='hearts')\n",
            "Card(rank='Q', suit='hearts')\n",
            "Card(rank='J', suit='hearts')\n",
            "Card(rank='10', suit='hearts')\n",
            "Card(rank='9', suit='hearts')\n",
            "Card(rank='8', suit='hearts')\n",
            "Card(rank='7', suit='hearts')\n",
            "Card(rank='6', suit='hearts')\n",
            "Card(rank='5', suit='hearts')\n",
            "Card(rank='4', suit='hearts')\n",
            "Card(rank='3', suit='hearts')\n",
            "Card(rank='2', suit='hearts')\n",
            "Card(rank='A', suit='clubs')\n",
            "Card(rank='K', suit='clubs')\n",
            "Card(rank='Q', suit='clubs')\n",
            "Card(rank='J', suit='clubs')\n",
            "Card(rank='10', suit='clubs')\n",
            "Card(rank='9', suit='clubs')\n",
            "Card(rank='8', suit='clubs')\n",
            "Card(rank='7', suit='clubs')\n",
            "Card(rank='6', suit='clubs')\n",
            "Card(rank='5', suit='clubs')\n",
            "Card(rank='4', suit='clubs')\n",
            "Card(rank='3', suit='clubs')\n",
            "Card(rank='2', suit='clubs')\n",
            "Card(rank='A', suit='diamonds')\n",
            "Card(rank='K', suit='diamonds')\n",
            "Card(rank='Q', suit='diamonds')\n",
            "Card(rank='J', suit='diamonds')\n",
            "Card(rank='10', suit='diamonds')\n",
            "Card(rank='9', suit='diamonds')\n",
            "Card(rank='8', suit='diamonds')\n",
            "Card(rank='7', suit='diamonds')\n",
            "Card(rank='6', suit='diamonds')\n",
            "Card(rank='5', suit='diamonds')\n",
            "Card(rank='4', suit='diamonds')\n",
            "Card(rank='3', suit='diamonds')\n",
            "Card(rank='2', suit='diamonds')\n",
            "Card(rank='A', suit='spades')\n",
            "Card(rank='K', suit='spades')\n",
            "Card(rank='Q', suit='spades')\n",
            "Card(rank='J', suit='spades')\n",
            "Card(rank='10', suit='spades')\n",
            "Card(rank='9', suit='spades')\n",
            "Card(rank='8', suit='spades')\n",
            "Card(rank='7', suit='spades')\n",
            "Card(rank='6', suit='spades')\n",
            "Card(rank='5', suit='spades')\n",
            "Card(rank='4', suit='spades')\n",
            "Card(rank='3', suit='spades')\n",
            "Card(rank='2', suit='spades')\n"
          ]
        }
      ]
    },
    {
      "cell_type": "code",
      "source": [
        "#예제11\n",
        "import collections\n",
        "\n",
        "Card = collections.namedtuple('Card', ['rank', 'suit'])\n",
        "\n",
        "class FrenchDeck:\n",
        "    ranks = [str(n) for n in range(2, 11)] + list('JQKA')\n",
        "    suits = 'spades diamonds clubs hearts'.split()\n",
        "\n",
        "    def __init__(self):\n",
        "        self._cards = [Card(rank, suit) for suit in self.suits\n",
        "                                          for rank in self.ranks]\n",
        "\n",
        "    def __len__(self):\n",
        "        return len(self._cards)\n",
        "\n",
        "    def __getitem__(self, position):\n",
        "        return self._cards[position]\n",
        "\n",
        "suit_values = dict(spades=3, hearts=2, diamonds=1, clubs=0)\n",
        "\n",
        "def spades_high(card):\n",
        "    rank_value = FrenchDeck.ranks.index(card.rank)\n",
        "    return rank_value * len(suit_values) + suit_values[card.suit]\n",
        "\n",
        "deck = FrenchDeck()\n",
        "beer_card = Card('7', 'diamonds')\n",
        "\n",
        "print(spades_high(beer_card))\n",
        "\n",
        "for card in sorted(deck, key=spades_high):\n",
        "    print(f\"The rank of {card} is {spades_high(card)}.\")"
      ],
      "metadata": {
        "colab": {
          "base_uri": "https://localhost:8080/"
        },
        "id": "EO-yHzr3B0Dj",
        "outputId": "1e08a428-d042-4df7-cc9f-24dd045f57c7"
      },
      "execution_count": 18,
      "outputs": [
        {
          "output_type": "stream",
          "name": "stdout",
          "text": [
            "21\n",
            "The rank of Card(rank='2', suit='clubs') is 0.\n",
            "The rank of Card(rank='2', suit='diamonds') is 1.\n",
            "The rank of Card(rank='2', suit='hearts') is 2.\n",
            "The rank of Card(rank='2', suit='spades') is 3.\n",
            "The rank of Card(rank='3', suit='clubs') is 4.\n",
            "The rank of Card(rank='3', suit='diamonds') is 5.\n",
            "The rank of Card(rank='3', suit='hearts') is 6.\n",
            "The rank of Card(rank='3', suit='spades') is 7.\n",
            "The rank of Card(rank='4', suit='clubs') is 8.\n",
            "The rank of Card(rank='4', suit='diamonds') is 9.\n",
            "The rank of Card(rank='4', suit='hearts') is 10.\n",
            "The rank of Card(rank='4', suit='spades') is 11.\n",
            "The rank of Card(rank='5', suit='clubs') is 12.\n",
            "The rank of Card(rank='5', suit='diamonds') is 13.\n",
            "The rank of Card(rank='5', suit='hearts') is 14.\n",
            "The rank of Card(rank='5', suit='spades') is 15.\n",
            "The rank of Card(rank='6', suit='clubs') is 16.\n",
            "The rank of Card(rank='6', suit='diamonds') is 17.\n",
            "The rank of Card(rank='6', suit='hearts') is 18.\n",
            "The rank of Card(rank='6', suit='spades') is 19.\n",
            "The rank of Card(rank='7', suit='clubs') is 20.\n",
            "The rank of Card(rank='7', suit='diamonds') is 21.\n",
            "The rank of Card(rank='7', suit='hearts') is 22.\n",
            "The rank of Card(rank='7', suit='spades') is 23.\n",
            "The rank of Card(rank='8', suit='clubs') is 24.\n",
            "The rank of Card(rank='8', suit='diamonds') is 25.\n",
            "The rank of Card(rank='8', suit='hearts') is 26.\n",
            "The rank of Card(rank='8', suit='spades') is 27.\n",
            "The rank of Card(rank='9', suit='clubs') is 28.\n",
            "The rank of Card(rank='9', suit='diamonds') is 29.\n",
            "The rank of Card(rank='9', suit='hearts') is 30.\n",
            "The rank of Card(rank='9', suit='spades') is 31.\n",
            "The rank of Card(rank='10', suit='clubs') is 32.\n",
            "The rank of Card(rank='10', suit='diamonds') is 33.\n",
            "The rank of Card(rank='10', suit='hearts') is 34.\n",
            "The rank of Card(rank='10', suit='spades') is 35.\n",
            "The rank of Card(rank='J', suit='clubs') is 36.\n",
            "The rank of Card(rank='J', suit='diamonds') is 37.\n",
            "The rank of Card(rank='J', suit='hearts') is 38.\n",
            "The rank of Card(rank='J', suit='spades') is 39.\n",
            "The rank of Card(rank='Q', suit='clubs') is 40.\n",
            "The rank of Card(rank='Q', suit='diamonds') is 41.\n",
            "The rank of Card(rank='Q', suit='hearts') is 42.\n",
            "The rank of Card(rank='Q', suit='spades') is 43.\n",
            "The rank of Card(rank='K', suit='clubs') is 44.\n",
            "The rank of Card(rank='K', suit='diamonds') is 45.\n",
            "The rank of Card(rank='K', suit='hearts') is 46.\n",
            "The rank of Card(rank='K', suit='spades') is 47.\n",
            "The rank of Card(rank='A', suit='clubs') is 48.\n",
            "The rank of Card(rank='A', suit='diamonds') is 49.\n",
            "The rank of Card(rank='A', suit='hearts') is 50.\n",
            "The rank of Card(rank='A', suit='spades') is 51.\n"
          ]
        }
      ]
    },
    {
      "cell_type": "code",
      "source": [
        "#예제12\n",
        "from math import hypot\n",
        "\n",
        "class Vector:\n",
        "    def __init__(self, x=0, y=0):\n",
        "        self.x = x\n",
        "        self.y = y\n",
        "\n",
        "    def __repr__(self):\n",
        "        return 'Vector(%r, %r)' % (self.x, self.y)\n",
        "\n",
        "    def __abs__(self):\n",
        "        return hypot(self.x, self.y)\n",
        "\n",
        "    def __bool__(self):\n",
        "        return bool(abs(self))\n",
        "\n",
        "    def __add__(self, other):\n",
        "        x = self.x + other.x\n",
        "        y = self.y + other.y\n",
        "        return Vector(x, y)\n",
        "\n",
        "    def __mul__(self, scalar):\n",
        "        return Vector(self.x * scalar, self.y * scalar)\n",
        "v = Vector(3, 4)\n",
        "print(abs(v))         # 5.0\n",
        "\n",
        "print(abs(v * 3))     # 15.0\n",
        "\n",
        "v1 = Vector(2, 4)\n",
        "v2 = Vector(2, 1)\n",
        "print(v1 + v2)\n"
      ],
      "metadata": {
        "colab": {
          "base_uri": "https://localhost:8080/"
        },
        "id": "kPxqkhg9CdEx",
        "outputId": "389b2e53-789d-4473-bac5-e1eebc3f510e"
      },
      "execution_count": 41,
      "outputs": [
        {
          "output_type": "stream",
          "name": "stdout",
          "text": [
            "5.0\n",
            "15.0\n",
            "Vector(4, 5)\n"
          ]
        }
      ]
    },
    {
      "cell_type": "code",
      "source": [
        "#예제13\n",
        "from math import hypot\n",
        "\n",
        "class Vector:\n",
        "    def __init__(self, x=0, y=0):\n",
        "        self.x = x\n",
        "        self.y = y\n",
        "\n",
        "    def __repr__(self):\n",
        "        return f\"Vector({self.x}, {self.y})\"\n",
        "\n",
        "    def __abs__(self):\n",
        "        return hypot(self.x, self.y)\n",
        "\n",
        "    def __bool__(self):\n",
        "        return bool(abs(self))\n",
        "\n",
        "    def __add__(self, other):\n",
        "        return Vector(self.x + other.x, self.y + other.y)\n",
        "\n",
        "    def __mul__(self, scalar):\n",
        "        return Vector(self.x * scalar, self.y * scalar)\n",
        "\n",
        "\n",
        "v = Vector(3, 4)\n",
        "print(v)"
      ],
      "metadata": {
        "colab": {
          "base_uri": "https://localhost:8080/"
        },
        "id": "HQeYTNyODHpv",
        "outputId": "0ca39f75-58a3-4e68-cdb2-49cd8be3397e"
      },
      "execution_count": 27,
      "outputs": [
        {
          "output_type": "stream",
          "name": "stdout",
          "text": [
            "Vector(3, 4)\n"
          ]
        }
      ]
    },
    {
      "cell_type": "code",
      "source": [
        "#예제14\n",
        "class Test:\n",
        "    def __repr__(self):\n",
        "        return \"repr test\"\n",
        "\n",
        "    def __str__(self):\n",
        "        return \"str test\"\n",
        "\n",
        "test = Test()\n",
        "print(repr(test))\n",
        "print(str(test))"
      ],
      "metadata": {
        "colab": {
          "base_uri": "https://localhost:8080/"
        },
        "id": "wu99eju4DqQO",
        "outputId": "96197262-18ac-4c5f-ae3b-d71e01fa0036"
      },
      "execution_count": 38,
      "outputs": [
        {
          "output_type": "stream",
          "name": "stdout",
          "text": [
            "repr test\n",
            "str test\n"
          ]
        }
      ]
    },
    {
      "cell_type": "code",
      "source": [
        "#예제15\n",
        "class Test:\n",
        "    def __repr__(self):\n",
        "        return \"repr test\"\n",
        "\n",
        "    def __str__(self):\n",
        "        return \"str test\"\n",
        "\n",
        "print(str(test))"
      ],
      "metadata": {
        "colab": {
          "base_uri": "https://localhost:8080/"
        },
        "id": "lyvd-5TJEYP-",
        "outputId": "e102decd-8ac8-42a2-d823-b51b25fd2615"
      },
      "execution_count": 32,
      "outputs": [
        {
          "output_type": "stream",
          "name": "stdout",
          "text": [
            "str test\n"
          ]
        }
      ]
    }
  ]
}