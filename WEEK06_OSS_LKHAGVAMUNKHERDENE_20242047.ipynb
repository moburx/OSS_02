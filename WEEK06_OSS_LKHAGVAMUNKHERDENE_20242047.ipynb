{
  "nbformat": 4,
  "nbformat_minor": 0,
  "metadata": {
    "colab": {
      "provenance": []
    },
    "kernelspec": {
      "name": "python3",
      "display_name": "Python 3"
    },
    "language_info": {
      "name": "python"
    }
  },
  "cells": [
    {
      "cell_type": "code",
      "execution_count": 5,
      "metadata": {
        "colab": {
          "base_uri": "https://localhost:8080/"
        },
        "id": "ktPX2KpbJ_-h",
        "outputId": "31a1eb18-e484-43aa-e144-0f3e7c38eba9"
      },
      "outputs": [
        {
          "output_type": "stream",
          "name": "stdout",
          "text": [
            "1405006117752879898543142606244511569936384000000000\n",
            "returns n!\n",
            "<class 'function'>\n"
          ]
        }
      ],
      "source": [
        "#---예제01---\n",
        "\n",
        "def factorial(n):\n",
        "    \"\"\"returns n!\"\"\"\n",
        "    return 1 if n < 2 else n * factorial(n-1)\n",
        "\n",
        "print(factorial(42))\n",
        "\n",
        "print(factorial.__doc__)\n",
        "\n",
        "print(type(factorial))"
      ]
    },
    {
      "cell_type": "code",
      "source": [
        "#---예제02---\n",
        "def factorial(n):\n",
        "    \"\"\"returns n!\"\"\"\n",
        "    return 1 if n < 2 else n * factorial(n-1)\n",
        "\n",
        "help(factorial)"
      ],
      "metadata": {
        "colab": {
          "base_uri": "https://localhost:8080/"
        },
        "id": "y513OG9iKHJp",
        "outputId": "4b32f7a0-da5d-44a8-cb68-459b4ad45fbb"
      },
      "execution_count": 6,
      "outputs": [
        {
          "output_type": "stream",
          "name": "stdout",
          "text": [
            "Help on function factorial in module __main__:\n",
            "\n",
            "factorial(n)\n",
            "    returns n!\n",
            "\n"
          ]
        }
      ]
    },
    {
      "cell_type": "code",
      "source": [
        "#---예제03---\n",
        "\n",
        "def factorial(n):\n",
        "    \"\"\"returns n!\"\"\"\n",
        "    return 1 if n < 2 else n * factorial(n-1)\n",
        "\n",
        "fact = factorial\n",
        "\n",
        "print(fact)\n",
        "\n",
        "print(fact(5))\n",
        "\n",
        "print(map(factorial, range(11)))\n",
        "\n",
        "print(list(map(fact, range(11))))"
      ],
      "metadata": {
        "colab": {
          "base_uri": "https://localhost:8080/"
        },
        "id": "nw2kg8SbKHaG",
        "outputId": "b4d223d8-2fe0-49c3-b955-cac3599318c0"
      },
      "execution_count": 9,
      "outputs": [
        {
          "output_type": "stream",
          "name": "stdout",
          "text": [
            "<function factorial at 0x7e1ceda42d40>\n",
            "120\n",
            "<map object at 0x7e1ceda6c730>\n",
            "[1, 1, 2, 6, 24, 120, 720, 5040, 40320, 362880, 3628800]\n"
          ]
        }
      ]
    },
    {
      "cell_type": "code",
      "source": [
        "#---예제04---\n",
        "fruits = ['strawberry', 'fig', 'apple', 'cherry', 'raspbrry', 'banana']\n",
        "\n",
        "print(sorted(fruits, key=len))"
      ],
      "metadata": {
        "colab": {
          "base_uri": "https://localhost:8080/"
        },
        "id": "--BmheRKLb07",
        "outputId": "fcdc7036-d04d-48b9-c4b0-838f184675d7"
      },
      "execution_count": 10,
      "outputs": [
        {
          "output_type": "stream",
          "name": "stdout",
          "text": [
            "['fig', 'apple', 'cherry', 'banana', 'raspbrry', 'strawberry']\n"
          ]
        }
      ]
    },
    {
      "cell_type": "code",
      "source": [
        "#---예제05---\n",
        "def reverse(word):\n",
        "    return word[::-1]\n",
        "\n",
        "print(reverse('testing'))\n",
        "\n",
        "print(sorted(fruits, key=reverse))"
      ],
      "metadata": {
        "colab": {
          "base_uri": "https://localhost:8080/"
        },
        "id": "MHrR18kpLb9J",
        "outputId": "d9eb99bb-2f0b-4281-db57-d9fd466972ba"
      },
      "execution_count": 11,
      "outputs": [
        {
          "output_type": "stream",
          "name": "stdout",
          "text": [
            "gnitset\n",
            "['banana', 'apple', 'fig', 'raspbrry', 'strawberry', 'cherry']\n"
          ]
        }
      ]
    },
    {
      "cell_type": "code",
      "source": [
        "#---예제06---\n",
        "def factorial(n):\n",
        "    \"\"\"returns n!\"\"\"\n",
        "    return 1 if n < 2 else n * factorial(n-1)\n",
        "\n",
        "fact = factorial\n",
        "\n",
        "print(list(map(fact, range(6))))\n",
        "\n",
        "print([fact(n) for n in range(6)])\n",
        "\n",
        "print(list(map(factorial, filter(lambda n: n % 2, range(6)))))\n",
        "\n",
        "print([factorial(n) for n in range(6) if n % 2])"
      ],
      "metadata": {
        "colab": {
          "base_uri": "https://localhost:8080/"
        },
        "id": "KmdAvODLLcEZ",
        "outputId": "f52421af-c37d-4f8e-ecfd-05926e555213"
      },
      "execution_count": 12,
      "outputs": [
        {
          "output_type": "stream",
          "name": "stdout",
          "text": [
            "[1, 1, 2, 6, 24, 120]\n",
            "[1, 1, 2, 6, 24, 120]\n",
            "[1, 6, 120]\n",
            "[1, 6, 120]\n"
          ]
        }
      ]
    },
    {
      "cell_type": "code",
      "source": [
        "#---예제07---\n",
        "fruits = ['strawberry', 'fig', 'apple', 'cherry', 'raspbrry', 'banana']\n",
        "\n",
        "print(sorted(fruits, key=lambda word: word[::-1]))"
      ],
      "metadata": {
        "colab": {
          "base_uri": "https://localhost:8080/"
        },
        "id": "lEy_bCgXLcIn",
        "outputId": "83be5fb6-35bb-4fa8-fc76-4d8c8ff72184"
      },
      "execution_count": 13,
      "outputs": [
        {
          "output_type": "stream",
          "name": "stdout",
          "text": [
            "['banana', 'apple', 'fig', 'raspbrry', 'strawberry', 'cherry']\n"
          ]
        }
      ]
    },
    {
      "cell_type": "code",
      "source": [
        "#---예제08---\n",
        "\n",
        "objs = (abs, str, 13)\n",
        "\n",
        "print(objs)\n",
        "\n",
        "print([callable(obj) for obj in objs])"
      ],
      "metadata": {
        "colab": {
          "base_uri": "https://localhost:8080/"
        },
        "id": "iHUg15snLcOC",
        "outputId": "23627713-7879-4f8e-fba3-fc98d3e00251"
      },
      "execution_count": 17,
      "outputs": [
        {
          "output_type": "stream",
          "name": "stdout",
          "text": [
            "(<built-in function abs>, <class 'str'>, 13)\n",
            "[True, True, False]\n"
          ]
        }
      ]
    },
    {
      "cell_type": "code",
      "source": [
        "#---예제09---\n",
        "import random\n",
        "\n",
        "class BingoCage:\n",
        "\n",
        "    def __init__(self, items):\n",
        "        self._items = list(items)\n",
        "        random.shuffle(self._items)\n",
        "\n",
        "    def pick(self):\n",
        "        try:\n",
        "            return self._items.pop()\n",
        "        except IndexError:\n",
        "            raise LookupError('pick from empty BingoCage')\n",
        "\n",
        "    def __call__(self):\n",
        "        return self.pick()"
      ],
      "metadata": {
        "id": "OwbJoITgMose"
      },
      "execution_count": 20,
      "outputs": []
    },
    {
      "cell_type": "code",
      "source": [
        "#---예제10---\n",
        "import random\n",
        "\n",
        "class BingoCage:\n",
        "    def __init__(self, items):\n",
        "        self._items = list(items)\n",
        "        random.shuffle(self._items)\n",
        "\n",
        "    def pick(self):\n",
        "        try:\n",
        "            return self._items.pop()\n",
        "        except IndexError:\n",
        "            raise LookupError('pick from empty BingoCage')\n",
        "\n",
        "    def __call__(self):\n",
        "        return self.pick()\n",
        "\n",
        "bingo = BingoCage(range(3))\n",
        "print(bingo.pick())\n",
        "print(bingo())\n",
        "print(callable(bingo))\n",
        "print(bingo())"
      ],
      "metadata": {
        "colab": {
          "base_uri": "https://localhost:8080/"
        },
        "id": "ah3Aj3jSMovZ",
        "outputId": "41a1ff0b-c619-49e8-d072-514c15ca8b17"
      },
      "execution_count": 31,
      "outputs": [
        {
          "output_type": "stream",
          "name": "stdout",
          "text": [
            "0\n",
            "1\n",
            "True\n",
            "2\n"
          ]
        }
      ]
    },
    {
      "cell_type": "code",
      "source": [
        "#---예제11---\n",
        "import random\n",
        "\n",
        "class BingoCage:\n",
        "    def __init__(self, items):\n",
        "        self._items = list(items)\n",
        "        random.shuffle(self._items)\n",
        "\n",
        "    def pick(self):\n",
        "        try:\n",
        "            return self._items.pop()\n",
        "        except IndexError:\n",
        "            raise LookupError('pick from empty BingoCage')\n",
        "\n",
        "    def __call__(self):\n",
        "        return self.pick()\n",
        "bingo()"
      ],
      "metadata": {
        "colab": {
          "base_uri": "https://localhost:8080/",
          "height": 418
        },
        "id": "ytSOGu-QMoy6",
        "outputId": "bf3600ae-0fbb-4d90-9dcc-934bb84906e0"
      },
      "execution_count": 32,
      "outputs": [
        {
          "output_type": "error",
          "ename": "LookupError",
          "evalue": "pick from empty BingoCage",
          "traceback": [
            "\u001b[0;31m---------------------------------------------------------------------------\u001b[0m",
            "\u001b[0;31mIndexError\u001b[0m                                Traceback (most recent call last)",
            "\u001b[0;32m/tmp/ipython-input-788125821.py\u001b[0m in \u001b[0;36mpick\u001b[0;34m(self)\u001b[0m\n\u001b[1;32m     10\u001b[0m         \u001b[0;32mtry\u001b[0m\u001b[0;34m:\u001b[0m\u001b[0;34m\u001b[0m\u001b[0;34m\u001b[0m\u001b[0m\n\u001b[0;32m---> 11\u001b[0;31m             \u001b[0;32mreturn\u001b[0m \u001b[0mself\u001b[0m\u001b[0;34m.\u001b[0m\u001b[0m_items\u001b[0m\u001b[0;34m.\u001b[0m\u001b[0mpop\u001b[0m\u001b[0;34m(\u001b[0m\u001b[0;34m)\u001b[0m\u001b[0;34m\u001b[0m\u001b[0;34m\u001b[0m\u001b[0m\n\u001b[0m\u001b[1;32m     12\u001b[0m         \u001b[0;32mexcept\u001b[0m \u001b[0mIndexError\u001b[0m\u001b[0;34m:\u001b[0m\u001b[0;34m\u001b[0m\u001b[0;34m\u001b[0m\u001b[0m\n",
            "\u001b[0;31mIndexError\u001b[0m: pop from empty list",
            "\nDuring handling of the above exception, another exception occurred:\n",
            "\u001b[0;31mLookupError\u001b[0m                               Traceback (most recent call last)",
            "\u001b[0;32m/tmp/ipython-input-3663460560.py\u001b[0m in \u001b[0;36m<cell line: 0>\u001b[0;34m()\u001b[0m\n\u001b[1;32m     15\u001b[0m     \u001b[0;32mdef\u001b[0m \u001b[0m__call__\u001b[0m\u001b[0;34m(\u001b[0m\u001b[0mself\u001b[0m\u001b[0;34m)\u001b[0m\u001b[0;34m:\u001b[0m\u001b[0;34m\u001b[0m\u001b[0;34m\u001b[0m\u001b[0m\n\u001b[1;32m     16\u001b[0m         \u001b[0;32mreturn\u001b[0m \u001b[0mself\u001b[0m\u001b[0;34m.\u001b[0m\u001b[0mpick\u001b[0m\u001b[0;34m(\u001b[0m\u001b[0;34m)\u001b[0m\u001b[0;34m\u001b[0m\u001b[0;34m\u001b[0m\u001b[0m\n\u001b[0;32m---> 17\u001b[0;31m \u001b[0mbingo\u001b[0m\u001b[0;34m(\u001b[0m\u001b[0;34m)\u001b[0m\u001b[0;34m\u001b[0m\u001b[0;34m\u001b[0m\u001b[0m\n\u001b[0m",
            "\u001b[0;32m/tmp/ipython-input-788125821.py\u001b[0m in \u001b[0;36m__call__\u001b[0;34m(self)\u001b[0m\n\u001b[1;32m     14\u001b[0m \u001b[0;34m\u001b[0m\u001b[0m\n\u001b[1;32m     15\u001b[0m     \u001b[0;32mdef\u001b[0m \u001b[0m__call__\u001b[0m\u001b[0;34m(\u001b[0m\u001b[0mself\u001b[0m\u001b[0;34m)\u001b[0m\u001b[0;34m:\u001b[0m\u001b[0;34m\u001b[0m\u001b[0;34m\u001b[0m\u001b[0m\n\u001b[0;32m---> 16\u001b[0;31m         \u001b[0;32mreturn\u001b[0m \u001b[0mself\u001b[0m\u001b[0;34m.\u001b[0m\u001b[0mpick\u001b[0m\u001b[0;34m(\u001b[0m\u001b[0;34m)\u001b[0m\u001b[0;34m\u001b[0m\u001b[0;34m\u001b[0m\u001b[0m\n\u001b[0m\u001b[1;32m     17\u001b[0m \u001b[0;34m\u001b[0m\u001b[0m\n\u001b[1;32m     18\u001b[0m \u001b[0mbingo\u001b[0m \u001b[0;34m=\u001b[0m \u001b[0mBingoCage\u001b[0m\u001b[0;34m(\u001b[0m\u001b[0mrange\u001b[0m\u001b[0;34m(\u001b[0m\u001b[0;36m3\u001b[0m\u001b[0;34m)\u001b[0m\u001b[0;34m)\u001b[0m\u001b[0;34m\u001b[0m\u001b[0;34m\u001b[0m\u001b[0m\n",
            "\u001b[0;32m/tmp/ipython-input-788125821.py\u001b[0m in \u001b[0;36mpick\u001b[0;34m(self)\u001b[0m\n\u001b[1;32m     11\u001b[0m             \u001b[0;32mreturn\u001b[0m \u001b[0mself\u001b[0m\u001b[0;34m.\u001b[0m\u001b[0m_items\u001b[0m\u001b[0;34m.\u001b[0m\u001b[0mpop\u001b[0m\u001b[0;34m(\u001b[0m\u001b[0;34m)\u001b[0m\u001b[0;34m\u001b[0m\u001b[0;34m\u001b[0m\u001b[0m\n\u001b[1;32m     12\u001b[0m         \u001b[0;32mexcept\u001b[0m \u001b[0mIndexError\u001b[0m\u001b[0;34m:\u001b[0m\u001b[0;34m\u001b[0m\u001b[0;34m\u001b[0m\u001b[0m\n\u001b[0;32m---> 13\u001b[0;31m             \u001b[0;32mraise\u001b[0m \u001b[0mLookupError\u001b[0m\u001b[0;34m(\u001b[0m\u001b[0;34m'pick from empty BingoCage'\u001b[0m\u001b[0;34m)\u001b[0m\u001b[0;34m\u001b[0m\u001b[0;34m\u001b[0m\u001b[0m\n\u001b[0m\u001b[1;32m     14\u001b[0m \u001b[0;34m\u001b[0m\u001b[0m\n\u001b[1;32m     15\u001b[0m     \u001b[0;32mdef\u001b[0m \u001b[0m__call__\u001b[0m\u001b[0;34m(\u001b[0m\u001b[0mself\u001b[0m\u001b[0;34m)\u001b[0m\u001b[0;34m:\u001b[0m\u001b[0;34m\u001b[0m\u001b[0;34m\u001b[0m\u001b[0m\n",
            "\u001b[0;31mLookupError\u001b[0m: pick from empty BingoCage"
          ]
        }
      ]
    },
    {
      "cell_type": "code",
      "source": [
        "#---예제12---\n",
        "def tag(name, *content, cls=None, **attrs):\n",
        "    \"\"\"하나 이상의 HTML 태그 생성\"\"\"\n",
        "    if cls is not None:\n",
        "        attrs['class'] = cls\n",
        "\n",
        "    if attrs:\n",
        "        attr_str = ' '.join('%s=\"%s\"' % (attr, value) for attr, value in sorted(attrs.items()))\n",
        "        attr_str = ' ' + attr_str\n",
        "    else:\n",
        "        attr_str = ''\n",
        "\n",
        "    if content:\n",
        "        return '\\n'.join('<%s%s>%s</%s>' % (name, attr_str, c, name) for c in content)\n",
        "\n",
        "    else:\n",
        "        return '<%s%s />' % (name, attr_str)"
      ],
      "metadata": {
        "id": "bANm2sujMo15"
      },
      "execution_count": 33,
      "outputs": []
    },
    {
      "cell_type": "code",
      "source": [
        "#---예제13---\n",
        "def tag(name, *content, cls=None, **attrs):\n",
        "    \"\"\"하나 이상의 HTML 태그 생성\"\"\"\n",
        "    if cls is not None:\n",
        "        attrs['class'] = cls\n",
        "\n",
        "    if attrs:\n",
        "        attr_str = ' '.join('%s=\"%s\"' % (attr, value) for attr, value in sorted(attrs.items()))\n",
        "        attr_str = ' ' + attr_str\n",
        "    else:\n",
        "        attr_str = ''\n",
        "\n",
        "    if content:\n",
        "        return '\\n'.join('<%s%s>%s</%s>' % (name, attr_str, c, name) for c in content)\n",
        "\n",
        "    else:\n",
        "        return '<%s%s />' % (name, attr_str)\n",
        "\n",
        "print(tag('br'))\n",
        "\n",
        "print(tag('p', 'hello'))\n",
        "\n",
        "print(tag('p', 'hello', 'world'))\n",
        "\n",
        "print(tag('p', 'hello', id=33))\n"
      ],
      "metadata": {
        "colab": {
          "base_uri": "https://localhost:8080/"
        },
        "id": "7pt1-gTVMo7V",
        "outputId": "9c7f366f-7c15-4d81-862c-da31ca02ee27"
      },
      "execution_count": 34,
      "outputs": [
        {
          "output_type": "stream",
          "name": "stdout",
          "text": [
            "<br />\n",
            "<p>hello</p>\n",
            "<p>hello</p>\n",
            "<p>world</p>\n",
            "<p id=\"33\">hello</p>\n"
          ]
        }
      ]
    },
    {
      "cell_type": "code",
      "source": [
        "#---예제14---\n",
        "def tag(name, *content, cls=None, **attrs):\n",
        "    \"\"\"하나 이상의 HTML 태그 생성\"\"\"\n",
        "    if cls is not None:\n",
        "        attrs['class'] = cls\n",
        "\n",
        "    if attrs:\n",
        "        attr_str = ' '.join('%s=\"%s\"' % (attr, value) for attr, value in sorted(attrs.items()))\n",
        "        attr_str = ' ' + attr_str\n",
        "    else:\n",
        "        attr_str = ''\n",
        "\n",
        "    if content:\n",
        "        return '\\n'.join('<%s%s>%s</%s>' % (name, attr_str, c, name) for c in content)\n",
        "\n",
        "    else:\n",
        "        return '<%s%s />' % (name, attr_str)\n",
        "\n",
        "print(tag('p', 'hello', 'world', cls='sidebar'))\n",
        "\n",
        "print(tag(content='testing', name='img'))\n",
        "\n",
        "my_tag = {\n",
        "    'name': 'img','title': 'Sunset Boulevard',\n",
        "    'src': 'sunset.jpg','cls': 'framed'\n",
        "}\n",
        "\n",
        "print(tag(**my_tag))\n"
      ],
      "metadata": {
        "colab": {
          "base_uri": "https://localhost:8080/"
        },
        "id": "kMnRzcbFN_e7",
        "outputId": "684c670c-d8e0-41c4-c014-12621e87a8f1"
      },
      "execution_count": 36,
      "outputs": [
        {
          "output_type": "stream",
          "name": "stdout",
          "text": [
            "<p class=\"sidebar\">hello</p>\n",
            "<p class=\"sidebar\">world</p>\n",
            "<img content=\"testing\" />\n",
            "<img class=\"framed\" src=\"sunset.jpg\" title=\"Sunset Boulevard\" />\n"
          ]
        }
      ]
    },
    {
      "cell_type": "code",
      "source": [
        "#---예제15---\n",
        "def f(a, *, b):\n",
        "    return a, b\n",
        "\n",
        "print(f(1, b=2))"
      ],
      "metadata": {
        "colab": {
          "base_uri": "https://localhost:8080/"
        },
        "id": "hvB2J37rN_hs",
        "outputId": "2ea4825d-5ce7-463d-c96b-d6624c78eb02"
      },
      "execution_count": 37,
      "outputs": [
        {
          "output_type": "stream",
          "name": "stdout",
          "text": [
            "(1, 2)\n"
          ]
        }
      ]
    },
    {
      "cell_type": "code",
      "source": [
        "#---예제16---\n",
        "def create_user(name, *, age, is_admin=False):\n",
        "    print(f\"Name: {name}, Age: {age}, Admin: {is_admin}\")\n",
        "\n",
        "create_user(\"Alice\", age=30, is_admin=True)\n",
        "create_user(\"Bob\", 25)"
      ],
      "metadata": {
        "colab": {
          "base_uri": "https://localhost:8080/",
          "height": 198
        },
        "id": "4S6Tfr1rN_kw",
        "outputId": "721a2826-0fc8-4a05-895c-9023098d1a4e"
      },
      "execution_count": 39,
      "outputs": [
        {
          "output_type": "stream",
          "name": "stdout",
          "text": [
            "Name: Alice, Age: 30, Admin: True\n"
          ]
        },
        {
          "output_type": "error",
          "ename": "TypeError",
          "evalue": "create_user() takes 1 positional argument but 2 were given",
          "traceback": [
            "\u001b[0;31m---------------------------------------------------------------------------\u001b[0m",
            "\u001b[0;31mTypeError\u001b[0m                                 Traceback (most recent call last)",
            "\u001b[0;32m/tmp/ipython-input-2514989556.py\u001b[0m in \u001b[0;36m<cell line: 0>\u001b[0;34m()\u001b[0m\n\u001b[1;32m      4\u001b[0m \u001b[0;34m\u001b[0m\u001b[0m\n\u001b[1;32m      5\u001b[0m \u001b[0mcreate_user\u001b[0m\u001b[0;34m(\u001b[0m\u001b[0;34m\"Alice\"\u001b[0m\u001b[0;34m,\u001b[0m \u001b[0mage\u001b[0m\u001b[0;34m=\u001b[0m\u001b[0;36m30\u001b[0m\u001b[0;34m,\u001b[0m \u001b[0mis_admin\u001b[0m\u001b[0;34m=\u001b[0m\u001b[0;32mTrue\u001b[0m\u001b[0;34m)\u001b[0m\u001b[0;34m\u001b[0m\u001b[0;34m\u001b[0m\u001b[0m\n\u001b[0;32m----> 6\u001b[0;31m \u001b[0mcreate_user\u001b[0m\u001b[0;34m(\u001b[0m\u001b[0;34m\"Bob\"\u001b[0m\u001b[0;34m,\u001b[0m \u001b[0;36m25\u001b[0m\u001b[0;34m)\u001b[0m\u001b[0;34m\u001b[0m\u001b[0;34m\u001b[0m\u001b[0m\n\u001b[0m",
            "\u001b[0;31mTypeError\u001b[0m: create_user() takes 1 positional argument but 2 were given"
          ]
        }
      ]
    },
    {
      "cell_type": "code",
      "source": [
        "#---예제17---\n",
        "def clip(text, max_len=80):\n",
        "    \"\"\"max_len 앞이나 뒤의 마지막 공백에서 잘라낸 텍스트를 반환한다.\"\"\"\n",
        "\n",
        "    end = None\n",
        "    if len(text) > max_len:\n",
        "\n",
        "        space_before = text.rfind(' ', 0, max_len)\n",
        "        if space_before >= 0:\n",
        "            end = space_before\n",
        "        else:\n",
        "            space_after = text.find(' ', max_len)\n",
        "            if space_after >= 0:\n",
        "                end = space_after\n",
        "    if end is None:\n",
        "\n",
        "        end = len(text)\n",
        "    return text[:end].rstrip()"
      ],
      "metadata": {
        "id": "OLtvre6VN_oV"
      },
      "execution_count": 40,
      "outputs": []
    },
    {
      "cell_type": "code",
      "source": [
        "#---예제18---\n",
        "def clip(text, max_len=80):\n",
        "    \"\"\"max_len 앞이나 뒤의 마지막 공백에서 잘라낸 텍스트를 반환한다.\"\"\"\n",
        "\n",
        "    end = None\n",
        "    if len(text) > max_len:\n",
        "\n",
        "        space_before = text.rfind(' ', 0, max_len)\n",
        "        if space_before >= 0:\n",
        "            end = space_before\n",
        "        else:\n",
        "            space_after = text.find(' ', max_len)\n",
        "            if space_after >= 0:\n",
        "                end = space_after\n",
        "    if end is None:\n",
        "\n",
        "        end = len(text)\n",
        "    return text[:end].rstrip()\n",
        "\n",
        "print(clip.__defaults__)\n",
        "print(clip.__code__)\n",
        "print(clip.__code__.co_varnames)\n",
        "print(clip.__code__.co_argcount)\n"
      ],
      "metadata": {
        "colab": {
          "base_uri": "https://localhost:8080/"
        },
        "id": "jx8F0Z1hN_rU",
        "outputId": "067bc433-01bd-492b-9e5c-27307364bc98"
      },
      "execution_count": 44,
      "outputs": [
        {
          "output_type": "stream",
          "name": "stdout",
          "text": [
            "(80,)\n",
            "<code object clip at 0x7e1cd5a5e290, file \"/tmp/ipython-input-949636344.py\", line 2>\n",
            "('text', 'max_len', 'end', 'space_before', 'space_after')\n",
            "2\n"
          ]
        }
      ]
    },
    {
      "cell_type": "code",
      "source": [
        "#---예제19---\n",
        "from inspect import signature\n",
        "\n",
        "sig = signature(clip)\n",
        "sig\n",
        "print(str(sig))\n",
        "\n",
        "for name, param in sig.parameters.items():\n",
        "    print(param.kind, \":\", name, \"=\", param.default)"
      ],
      "metadata": {
        "colab": {
          "base_uri": "https://localhost:8080/"
        },
        "id": "imFtwtDnREsy",
        "outputId": "4e6001ba-8d46-45cc-94f4-bb73a8b4ec99"
      },
      "execution_count": 48,
      "outputs": [
        {
          "output_type": "stream",
          "name": "stdout",
          "text": [
            "(text, max_len=80)\n",
            "POSITIONAL_OR_KEYWORD : text = <class 'inspect._empty'>\n",
            "POSITIONAL_OR_KEYWORD : max_len = 80\n"
          ]
        }
      ]
    },
    {
      "cell_type": "code",
      "source": [
        "#---예제20---\n",
        "from inspect import signature\n",
        "sig = signature(tag)\n",
        "\n",
        "print(my_tag)\n",
        "\n",
        "bound_args = sig.bind(**my_tag)\n",
        "print(bound_args)\n",
        "for name, value in bound_args.arguments.items():\n",
        "    print(name, '=', value)"
      ],
      "metadata": {
        "colab": {
          "base_uri": "https://localhost:8080/"
        },
        "id": "Gxt-5GVCREvv",
        "outputId": "8688cf4e-d981-4387-a471-490de283703e"
      },
      "execution_count": 51,
      "outputs": [
        {
          "output_type": "stream",
          "name": "stdout",
          "text": [
            "{'name': 'img', 'title': 'Sunset Boulevard', 'src': 'sunset.jpg', 'cls': 'framed'}\n",
            "<BoundArguments (name='img', cls='framed', attrs={'title': 'Sunset Boulevard', 'src': 'sunset.jpg'})>\n",
            "name = img\n",
            "cls = framed\n",
            "attrs = {'title': 'Sunset Boulevard', 'src': 'sunset.jpg'}\n"
          ]
        }
      ]
    },
    {
      "cell_type": "code",
      "source": [
        "#---예제21---\n",
        "def clip_fa(text: str, max_len: int = 80) -> str:\n",
        "    \"\"\"max_len 앞이나 뒤의 마지막 공백에서 잘라낸 텍스트를 반환한다.\"\"\"\n",
        "\n",
        "    end = None\n",
        "    if len(text) > max_len:\n",
        "\n",
        "        space_before = text.rfind(' ', 0, max_len)\n",
        "        if space_before >= 0:\n",
        "            end = space_before\n",
        "        else:\n",
        "\n",
        "            space_after = text.find(' ', max_len)\n",
        "            if space_after >= 0:\n",
        "                end = space_after\n",
        "\n",
        "    if end is None:\n",
        "        end = len(text)\n",
        "\n",
        "    return text[:end].rstrip()"
      ],
      "metadata": {
        "id": "cYsG8iwlRE0M"
      },
      "execution_count": 55,
      "outputs": []
    },
    {
      "cell_type": "code",
      "source": [
        "#---예제22---\n",
        "def clip_fa(text: str, max_len: int = 80) -> str:\n",
        "    \"\"\"max_len 앞이나 뒤의 마지막 공백에서 잘라낸 텍스트를 반환한다.\"\"\"\n",
        "\n",
        "    end = None\n",
        "    if len(text) > max_len:\n",
        "        space_before = text.rfind(' ', 0, max_len)\n",
        "        if space_before >= 0:\n",
        "            end = space_before\n",
        "        else:\n",
        "            space_after = text.find(' ', max_len)\n",
        "            if space_after >= 0:\n",
        "                end = space_after\n",
        "\n",
        "    if end is None:\n",
        "        end = len(text)\n",
        "\n",
        "    return text[:end].rstrip()\n",
        "\n",
        "clip_fa.__annotations__"
      ],
      "metadata": {
        "colab": {
          "base_uri": "https://localhost:8080/"
        },
        "id": "hS3Q6LZ9RE3f",
        "outputId": "4072fb57-6e9f-445e-861c-6c979bfa49b0"
      },
      "execution_count": 57,
      "outputs": [
        {
          "output_type": "execute_result",
          "data": {
            "text/plain": [
              "{'text': str, 'max_len': int, 'return': str}"
            ]
          },
          "metadata": {},
          "execution_count": 57
        }
      ]
    },
    {
      "cell_type": "code",
      "source": [
        "#---예제23---\n",
        "def clip_fa(text: str, max_len: int = 80) -> str:\n",
        "    \"\"\"max_len 앞이나 뒤의 마지막 공백에서 잘라낸 텍스트를 반환한다.\"\"\"\n",
        "\n",
        "    end = None\n",
        "    if len(text) > max_len:\n",
        "        space_before = text.rfind(' ', 0, max_len)\n",
        "        if space_before >= 0:\n",
        "            end = space_before\n",
        "        else:\n",
        "            space_after = text.find(' ', max_len)\n",
        "            if space_after >= 0:\n",
        "                end = space_after\n",
        "\n",
        "    if end is None:\n",
        "        end = len(text)\n",
        "\n",
        "    return text[:end].rstrip()\n",
        "\n",
        "print(clip_fa.__annotations__)\n",
        "\n",
        "sig = signature(clip_fa)\n",
        "print(sig.return_annotation)\n",
        "\n",
        "for param in sig.parameters.values():\n",
        "    note = repr(param.annotation).ljust(13)\n",
        "    print(note, ':', param.name, '=', param.default)"
      ],
      "metadata": {
        "colab": {
          "base_uri": "https://localhost:8080/"
        },
        "id": "KBenqpzlRE6v",
        "outputId": "80bd5e0c-eeb0-40b1-b18c-487616b622c7"
      },
      "execution_count": 60,
      "outputs": [
        {
          "output_type": "stream",
          "name": "stdout",
          "text": [
            "{'text': <class 'str'>, 'max_len': <class 'int'>, 'return': <class 'str'>}\n",
            "<class 'str'>\n",
            "<class 'str'> : text = <class 'inspect._empty'>\n",
            "<class 'int'> : max_len = 80\n"
          ]
        }
      ]
    },
    {
      "cell_type": "code",
      "source": [
        "#---예제24---\n",
        "from functools import reduce\n",
        "def fact(n):\n",
        "    return reduce(lambda a, b: a*b, range(1, n+1))\n",
        "fact(10)\n"
      ],
      "metadata": {
        "colab": {
          "base_uri": "https://localhost:8080/"
        },
        "id": "p0UI96O-RE-W",
        "outputId": "5e1025da-7d8a-4ab6-d3bc-0b959056f3d7"
      },
      "execution_count": 62,
      "outputs": [
        {
          "output_type": "execute_result",
          "data": {
            "text/plain": [
              "3628800"
            ]
          },
          "metadata": {},
          "execution_count": 62
        }
      ]
    },
    {
      "cell_type": "code",
      "source": [
        "#---예제25---\n",
        "from operator import mul\n",
        "def fact (n):\n",
        "  return reduce (mul, range (1,n+1))\n",
        "\n",
        "fact(10)"
      ],
      "metadata": {
        "colab": {
          "base_uri": "https://localhost:8080/"
        },
        "id": "wJxI6GtyVq16",
        "outputId": "ff050966-1baa-40ee-faf8-b799e56501c3"
      },
      "execution_count": 65,
      "outputs": [
        {
          "output_type": "execute_result",
          "data": {
            "text/plain": [
              "3628800"
            ]
          },
          "metadata": {},
          "execution_count": 65
        }
      ]
    },
    {
      "cell_type": "code",
      "source": [
        "#---예제26---\n",
        "metro_data = [\n",
        "('Tokyo', 'JP', 36.933, (35.689722, 139.691667)) ,\n",
        "('Delhi NCR', 'IN', 21.935, (28.613889, 77.208889)),\n",
        "('Mexico City', 'MX', 20.142, (19.433333, -99.133333)) ,\n",
        "('New York-Newark', 'US', 20.104, (40.808611, -74.020386)),\n",
        "('Sao Paulo', 'BR', 19.649, (-23.547778, -46.635833)) ,\n",
        "]\n",
        "\n",
        "from operator import itemgetter\n",
        "for city in sorted (metro_data, key=itemgetter(1)):\n",
        "  print(city)"
      ],
      "metadata": {
        "colab": {
          "base_uri": "https://localhost:8080/"
        },
        "id": "2QvmOESpVq4c",
        "outputId": "2debdd75-cd2b-4aa4-88db-64700365432b"
      },
      "execution_count": 69,
      "outputs": [
        {
          "output_type": "stream",
          "name": "stdout",
          "text": [
            "('Sao Paulo', 'BR', 19.649, (-23.547778, -46.635833))\n",
            "('Delhi NCR', 'IN', 21.935, (28.613889, 77.208889))\n",
            "('Tokyo', 'JP', 36.933, (35.689722, 139.691667))\n",
            "('Mexico City', 'MX', 20.142, (19.433333, -99.133333))\n",
            "('New York-Newark', 'US', 20.104, (40.808611, -74.020386))\n"
          ]
        }
      ]
    },
    {
      "cell_type": "code",
      "source": [
        "#---예제27---\n",
        "metro_data = [\n",
        "('Tokyo', 'JP', 36.933, (35.689722, 139.691667)) ,\n",
        "('Delhi NCR', 'IN', 21.935, (28.613889, 77.208889)),\n",
        "('Mexico City', 'MX', 20.142, (19.433333, -99.133333)) ,\n",
        "('New York-Newark', 'US', 20.104, (40.808611, -74.020386)),\n",
        "('Sao Paulo', 'BR', 19.649, (-23.547778, -46.635833)) ,\n",
        "]\n",
        "\n",
        "cc_name = itemgetter(1, 0)\n",
        "for city in metro_data:\n",
        "  print(cc_name(city))"
      ],
      "metadata": {
        "colab": {
          "base_uri": "https://localhost:8080/"
        },
        "id": "Ls5E5toFVq85",
        "outputId": "e647c7ab-2e62-4c36-d8c2-d1b051539f06"
      },
      "execution_count": 73,
      "outputs": [
        {
          "output_type": "stream",
          "name": "stdout",
          "text": [
            "('JP', 'Tokyo')\n",
            "('IN', 'Delhi NCR')\n",
            "('MX', 'Mexico City')\n",
            "('US', 'New York-Newark')\n",
            "('BR', 'Sao Paulo')\n"
          ]
        }
      ]
    },
    {
      "cell_type": "code",
      "source": [
        "#---예제28---\n",
        "metro_data = [\n",
        "('Tokyo', 'JP', 36.933, (35.689722, 139.691667)) ,\n",
        "('Delhi NCR', 'IN', 21.935, (28.613889, 77.208889)),\n",
        "('Mexico City', 'MX', 20.142, (19.433333, -99.133333)) ,\n",
        "('New York-Newark', 'US', 20.104, (40.808611, -74.020386)),\n",
        "('Sao Paulo', 'BR', 19.649, (-23.547778, -46.635833)) ,\n",
        "]\n",
        "\n",
        "from collections import namedtuple\n",
        "LatLong = namedtuple('LatLong', 'lat long')\n",
        "Metropolis = namedtuple('Metropolis', 'name cc pop coord')\n",
        "metro_areas = [Metropolis(name, cc, pop, LatLong(lat, long))\n",
        "for name, cc, pop, (lat, long) in metro_data]\n",
        "\n",
        "print(metro_areas[0])\n",
        "print(metro_areas[0].coord.lat)\n",
        "from operator import attrgetter\n",
        "name_lat = attrgetter('name', 'coord.lat')\n",
        "\n",
        "\n"
      ],
      "metadata": {
        "colab": {
          "base_uri": "https://localhost:8080/"
        },
        "id": "cPyaXCjJVrBE",
        "outputId": "7f7156c6-a6ef-4971-dec7-657add0acb47"
      },
      "execution_count": 81,
      "outputs": [
        {
          "output_type": "stream",
          "name": "stdout",
          "text": [
            "Metropolis(name='Tokyo', cc='JP', pop=36.933, coord=LatLong(lat=35.689722, long=139.691667))\n",
            "35.689722\n"
          ]
        }
      ]
    },
    {
      "cell_type": "code",
      "source": [
        "#---예제29---\n",
        "metro_data = [\n",
        "('Tokyo', 'JP', 36.933, (35.689722, 139.691667)) ,\n",
        "('Delhi NCR', 'IN', 21.935, (28.613889, 77.208889)),\n",
        "('Mexico City', 'MX', 20.142, (19.433333, -99.133333)) ,\n",
        "('New York-Newark', 'US', 20.104, (40.808611, -74.020386)),\n",
        "('Sao Paulo', 'BR', 19.649, (-23.547778, -46.635833)) ,\n",
        "]\n",
        "\n",
        "for city in sorted(metro_areas, key=attrgetter('coord.lat')):\n",
        "  print(name_lat(city))\n",
        "\n",
        "metro_areas2 = [Metropolis(name, cc, pop, LatLong(lat, long))\n",
        "  for name, cc, pop, (lat, long) in metro_data]\n",
        "print(metro_areas2[0])"
      ],
      "metadata": {
        "colab": {
          "base_uri": "https://localhost:8080/"
        },
        "id": "mko1YrqYVrEn",
        "outputId": "e4fb5b35-bd3a-47e1-a556-ff9d456c0f6b"
      },
      "execution_count": 85,
      "outputs": [
        {
          "output_type": "stream",
          "name": "stdout",
          "text": [
            "('Sao Paulo', -23.547778)\n",
            "('Mexico City', 19.433333)\n",
            "('Delhi NCR', 28.613889)\n",
            "('Tokyo', 35.689722)\n",
            "('New York-Newark', 40.808611)\n",
            "Metropolis(name='Tokyo', cc='JP', pop=36.933, coord=LatLong(lat=35.689722, long=139.691667))\n"
          ]
        }
      ]
    },
    {
      "cell_type": "code",
      "source": [
        "#---예제30---\n",
        "from operator import methodcaller\n",
        "s = 'The time has come'\n",
        "upcase = methodcaller('upper')\n",
        "print(upcase(s))\n",
        "print(s.upper())\n",
        "hiphenate = methodcaller('replace', ' ', '-')\n",
        "print(hiphenate(s))"
      ],
      "metadata": {
        "colab": {
          "base_uri": "https://localhost:8080/"
        },
        "id": "4hPnPm7WVrHq",
        "outputId": "af4de7a5-4177-43de-f19e-ee4227ce17a3"
      },
      "execution_count": 87,
      "outputs": [
        {
          "output_type": "stream",
          "name": "stdout",
          "text": [
            "THE TIME HAS COME\n",
            "THE TIME HAS COME\n",
            "The-time-has-come\n"
          ]
        }
      ]
    },
    {
      "cell_type": "code",
      "source": [
        "#---예제31---\n",
        "from operator import mul\n",
        "from functools import partial\n",
        "triple = partial(mul, 3)\n",
        "print(triple(7))\n",
        "print(list(map(triple, range(1, 10))))"
      ],
      "metadata": {
        "colab": {
          "base_uri": "https://localhost:8080/"
        },
        "id": "K6ESOrIBZDTd",
        "outputId": "99095677-a830-465d-f986-e178450eda91"
      },
      "execution_count": 88,
      "outputs": [
        {
          "output_type": "stream",
          "name": "stdout",
          "text": [
            "21\n",
            "[3, 6, 9, 12, 15, 18, 21, 24, 27]\n"
          ]
        }
      ]
    },
    {
      "cell_type": "code",
      "source": [
        "#---예제32---\n",
        "import unicodedata, functools\n",
        "nfc = functools.partial(unicodedata.normalize, 'NFC')\n",
        "s1 = 'café'\n",
        "s2 = 'cafe\\u0301'\n",
        "print(s1, s2)\n",
        "print(s1 == s2, nfc(s1) == nfc(s2))"
      ],
      "metadata": {
        "colab": {
          "base_uri": "https://localhost:8080/"
        },
        "id": "Kgqph_rVZDWf",
        "outputId": "a5dae03c-cf92-487c-a332-691c001ef39e"
      },
      "execution_count": 90,
      "outputs": [
        {
          "output_type": "stream",
          "name": "stdout",
          "text": [
            "café café\n",
            "False True\n"
          ]
        }
      ]
    },
    {
      "cell_type": "code",
      "source": [
        "#---예제33---\n",
        "from functools import partial\n",
        "\n",
        "def tag(name, *content, cls=None, **attrs):\n",
        "    \"\"\"간단한 HTML 태그 생성 함수\"\"\"\n",
        "    attr_str = ''\n",
        "    if cls:\n",
        "        attr_str += f' class=\"{cls}\"'\n",
        "    for k, v in attrs.items():\n",
        "        attr_str += f' {k}=\"{v}\"'\n",
        "    if content:\n",
        "        return ''.join(f'<{name}{attr_str}>{c}</{name}>' for c in content)\n",
        "    else:\n",
        "        return f'<{name}{attr_str} />'\n",
        "\n",
        "picture = partial(tag, 'img', cls='pic-frame')\n",
        "\n",
        "picture(src='wumpus.jpg')\n"
      ],
      "metadata": {
        "colab": {
          "base_uri": "https://localhost:8080/",
          "height": 35
        },
        "id": "H-6VHvxtZe60",
        "outputId": "d0e34924-f07d-4215-c528-13f7f2ccd1cb"
      },
      "execution_count": 91,
      "outputs": [
        {
          "output_type": "execute_result",
          "data": {
            "text/plain": [
              "'<img class=\"pic-frame\" src=\"wumpus.jpg\" />'"
            ],
            "application/vnd.google.colaboratory.intrinsic+json": {
              "type": "string"
            }
          },
          "metadata": {},
          "execution_count": 91
        }
      ]
    }
  ]
}